{
  "nbformat": 4,
  "nbformat_minor": 0,
  "metadata": {
    "kernelspec": {
      "display_name": "Python 2",
      "language": "python",
      "name": "python2"
    },
    "language_info": {
      "codemirror_mode": {
        "name": "ipython",
        "version": 2
      },
      "file_extension": ".py",
      "mimetype": "text/x-python",
      "name": "python",
      "nbconvert_exporter": "python",
      "pygments_lexer": "ipython2",
      "version": "2.7.16"
    },
    "colab": {
      "name": "Term Project - Final Report-Group 29.ipynb",
      "provenance": [],
      "collapsed_sections": []
    }
  },
  "cells": [
    {
      "cell_type": "markdown",
      "metadata": {
        "id": "qU7EH072Wi4W"
      },
      "source": [
        "# Term Project - Final Report\n",
        "\n",
        "ESI4628: Decision Support Systems for Industrial Engineers<br>\n",
        "University of Central Florida\n",
        "Dr. Ozlem Ozmen"
      ]
    },
    {
      "cell_type": "markdown",
      "metadata": {
        "id": "4MMJIc4oWi4j"
      },
      "source": [
        "#### According to UCF Golden rules of academic ethics and honesty, plagiarism is not acceptable under any circumstances. "
      ]
    },
    {
      "cell_type": "markdown",
      "metadata": {
        "id": "nJTm-KgqWi4k"
      },
      "source": [
        "### Title: Statistical Analysis of Airbnb Rates in New York City\n",
        "### Team Number: 29\n",
        "#### Team Members Names: Duyen Nguyen, Alexa Schultz, Amber Chiotasso, Cristonique Basden, Taylor Pitts, and Stephen McFarlane"
      ]
    },
    {
      "cell_type": "markdown",
      "metadata": {
        "id": "nNL2SXSXWi4m"
      },
      "source": [
        "### 1 Problem Statement : \n",
        "+ Describe your project problem statement.\n",
        "\n",
        "> When it comes to AirBnb hosting, figuring out realistic and appropriate rates to charge for their listing can be challenging, and oftentimes, AirBnb hosts have little guidance on how to price them. Not knowing how to price listings can lead to oversaturated markets, unreasonabley priced units and a loss of host's profits. Hosts do not want to overcharge because it could lower potential bookings due to lower demand at high price, but at the same time, they do not want to undercharge, because they could not gain expected revenue. \n",
        "\n",
        "> Hosts have to determine a price that is fair to both themselves and their guests. AirBnb pricing is typically influenced by factors including location, number of reviews, room types, and availability.\n",
        "\n",
        "> The goal of the project was to create a forecast model that gives AirBnb hosts an idea of how they should price their listing in response to mentioned factors. With a forecast model, hosts are able to price fairly and make the profit their listing warrants. This forecast model also helps renters get fair prices on the places they are staying.\n",
        "\n",
        "+ Given that DSS course material why did you chose to solve this problem?\n",
        "\n",
        "> The New York City Open Data provided us with a dataset we used for solving this problem. The Kaggle dataset has qualitative and quantitative information about NYC Airbnb units that allows the team to utilize forecast model techniques learned from class. The team was able to implement linear regression and random forest tests to statistically approach this problem. Other course material was used including Python for programming language with assisting open-source libraries that include Numpy, Matplotlib, Pandas and Scikit-learn in order to conduct analytics and visualize the results. \n",
        "\n"
      ]
    },
    {
      "cell_type": "markdown",
      "metadata": {
        "id": "equrIYXyWi4n"
      },
      "source": [
        "### 2 Dataset : \n",
        "\n",
        "+ Describe the dataset you chose for this project.\n",
        "\n",
        "> The goal of the project is to identify the factors that contribute to the price of an Airbnb listing. The New York City Airbnb Open Data dataset was chosen to be used for the project. The data resource is from Kaggle database, with a CSV Airbnb data set gathered by dgomonov in 2019. In addition, to be an appropriate dataset for the project, the data was free to access and could easily be imported into Jupyter.\n",
        ">  This dataset provides qualitative and quantitative details about Airbnb units in the chosen location of the project, New York City. The information of the dataset will allow for the analysis of prices of units in terms of various factors such as locations, number of reviews, room types, and availability to allow hosts to more appropriately price units according to current market rates. New York City was chosen due to its competitive nature, oversaturation, and high prices of Airbnb listings. The prices and saturation in New York reflect similar trends that are beginning to be seen in several cities across the country. The results found from this dataset can be used for future predictions and trends in other locations.\n",
        "\n",
        "+ How was the data filtration performed?  \n",
        "\n",
        "> Creating a data frame by dropping insignificant columns was the first step of data filtration. The dropped columns were 'id','name','host_id','host_name','last_review'. \n",
        "\n",
        "> The next step was to check if there was any duplicate values, then to evaluate any blank or missing data. Around 10000 reviews_per_month data points were discovered missing and the team decided to replace these data points with 0. \n",
        "\n",
        "> Then, integer encoding was performed to map each value of the dataset to an integer. The dataset must be encoded so that it can be manipulated and analyzed.\n",
        "\n",
        "\n",
        "\n"
      ]
    },
    {
      "cell_type": "markdown",
      "metadata": {
        "id": "eZg1TR-bWi4o"
      },
      "source": [
        "### 3 Modeling Type and Technique :\n",
        "+ Explain your model and all the steps involved in your modeling.\n",
        "\n",
        "> First, the independent and dependent variables were identified. The independent variables were neighborhood_group, neighborhood, latitude, longitude, room_type, minimum_nights, number_of_reviews, reviews_per_month, calculated_host_listings_count, and availability_365. The only dependent variable was the price.\n",
        "\n",
        ">   Then, the dataset was split into training and testing sets. 80% of the data was training and the remaining 20% was for testing. The data was split into testing and training to measure the overall accuracy.\n",
        "\n",
        ">  Finally, linear regression and random forest models were implemented. Both models were used in this project since the team wanted to see which model can bring out better result. The coefficient of determination R^2 on test set and train set were then calculated for both models. The closer R^2 to 1, the better the model performs. \n",
        "\n",
        "+ Explain all the visualization techniques used for this project.\n",
        "\n",
        "> The visualizations used in this project consist of a correlation matrix, bar graphs, box plots, scatter plots, and density maps. The correlation matrix displays the correlation between the various variables. The matrix can find indications of predictive relationships between the variables. The closer the values are to one, the stronger the correlation. The fit of the data is visually represented in the pair plots. The pair plots illustrate the relationship of each variable through scatter plots.\n",
        "\n",
        "> The bar graphs of the listings per neighborhood group show how the data is divided amongst the different geographic areas. The density chart shows how the listings are saturated throughout New York City. The price distribution heat scatter plot reveals the pricing throughout these areas. The redder the points are, the higher the prices. The heat scatter plot shows a concentration of higher-priced Airbnbs in the downtown area. The box plot of the availability of the neighborhood group indicates how the values in the data are spread out. The boxplot reveals skewness in the availability in the neighborhood groups of Brooklyn, Queens, and Manhattan.\n",
        "\n",
        "> The bar chart representing feature importance highlights the relevance of the different features on the price. The data reveals that the longitude and latitude have a strong influence on the cost of Airbnbs. The triple bar chart compares the actual and predicted prices from 25 random Airbnbs. There is a higher accuracy of the random forest models versus the linear regression. However, as the actual cost goes up, the accuracy drops. This result is also indicated in the linear regression and random forest model scatter plots. \n",
        "\n",
        "+ Explain clearly the results(outcomes) of your project.\n",
        "\n",
        "> The random forest model was able to predict Airbnb rates with the accuracy of 87%. The model did a great job forecasting less expensive listings. However, the more expensive the listing got, the harder it was for the model to predict. This could be due to the fact that the dataset didn't have as many expensive listings compared to less expensive listing. Therefore, the model didn't have enough data points to learn the pattern of expensive Airbnb rates.\n",
        "\n",
        "+ Explain performance analysis to justify your results.\n",
        "\n",
        "> After performing both linear regression and random forest, the linear regression model yielded 6% accuracy while the random forest model yielded 87%. Random forest model definitely gave much higher accuracy. It is because  a prediction from the random forest regressor is an average of the predictions produced by the trees in the forest, while linear regression is just simply a linear model that only works well with linear-shape data. Additionally, random forest has much more parameters compared to linear regression. These features of random forest helps the model produce higher accuracy in terms of prediction.\n",
        "\n",
        "\n",
        "+ Explain the conclusions.\n",
        "\n",
        "> The features importance bar graph shows which factors have heavy influences on NYC Airbnb pricing. Surprisingly, longitudes and latitudes showed higher importance in pricing determination, despite the team's expectation of neighbourhood groups. This could be explained by the fact that each neighbourhood group or borough has its own downtown, and when tourists visiting that borough, they tend to be drawn to stay near downtown due to closer tourist attractions and easier and shorter commute between destinations. Thus, the location of Airbnb in each borough, closer to downtown or not, is an important factor when defining the pricing rate.\n",
        "\n",
        "+ What are the three real world use cases of your project.\n",
        "\n",
        "> This project can determine how to price an Airbnb appropriately given relevant and current information of the New York City area. A new Airbnb provider in the New York City area can reference these materials to determine how much to charge a tenant for their stay. Also, a tenant looking to stay in the New York City area can use these materials and determine whether they are being charged appropriately. Lastly, local communities can determine how much their community is worth in terms of visiting desirability as to determine how much to invest in the local tourism and accommodations."
      ]
    },
    {
      "cell_type": "markdown",
      "metadata": {
        "id": "lphm1beaWi4p"
      },
      "source": [
        "### 4 References :\n",
        "\n",
        "> This literature review provides a concise summary of Airbnb knowledge based on content analysis on six thematic categories – Airbnb guests, Airbnb hosts, Airbnb supply and its impacts on destinations, Airbnb regulation, Airbnb’s impacts on the tourism sector and the Airbnb company. The team can utilize this journal's insights to understand the final findings better.\n",
        "\n",
        "> Guttentag, D. (2019). Progress on Airbnb: A literature review. Journal of Hospitality and Tourism Technology. https://doi.org/10.1108/jhtt-08-2018-0075.\n",
        "\n",
        "This journal provides a demonstration of the geographical variation in the supply and use of Airbnb accommodation in 167 countries. The team's project can use its insights to make some comparisons between NYC Airbnb's perspective and global perspective.\n",
        "\n",
        "> Adamiak, C. (n.d.). Current state and development of Airbnb accommodation offer in 167 countries. Taylor & Francis. Retrieved from https://www.tandfonline.com/doi/full/10.1080/13683500.2019.1696758.\n",
        "\n",
        "This article not only uses the same New York City Airbnb data of the team's project, but also breaks down the data into a variety of factors. Before analyzing the data, the most valuable factors must be identified for the analysis. Factors such as eighborhood, price, room type, and reviews are all taken into account, along with additional variables. The team plan to use this article as a reference guide for the project analysis.\n",
        "\n",
        "> Nurdialit, D. G. (2020, October 6). Python exploratory data Analysis (EDA) on NYC Airbnb. Medium. Retrieved September 16, 2021, from https://medium.com/analytics-vidhya/python-exploratory-data-analysis-eda-on-nyc-airbnb-cbeabd622e30.\n",
        "\n",
        "This article samples data in Singapore and takes into account the ongoing global pandemic for a more relevant report. It goes more into depth on extracting important information and throwing away less relevant information, focusing on the optimization of recourses, code, and time. The team plan to use this article as a reference guide in the development of the project methodology.\n",
        "\n",
        "> Arfiano, A. (2020, June 26). Data exploration on Airbnb singapore: 01. Medium. Retrieved September 16, 2021, from https://towardsdatascience.com/data-exploration-on-airbnb-singapore-01-40698c54cac3.k\n",
        "\n",
        "This is the dataset the team is using for the project.\n",
        "\n",
        "> Dgomonov. (2019, August 12). New York City airbnb open data. Kaggle. Retrieved from https://www.kaggle.com/dgomonov/new-york-city-airbnb-open-data/version/3?select=AB_NYC_2019.csv.\n",
        "\n",
        "\n"
      ]
    }
  ]
}